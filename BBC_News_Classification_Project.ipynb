{
 "cells": [
  {
   "cell_type": "markdown",
   "id": "97cb85fe",
   "metadata": {},
   "source": [
    "# BBC News Classification Project"
   ]
  },
  {
   "cell_type": "markdown",
   "id": "d21e3fde",
   "metadata": {},
   "source": [
    "For this week’s mini-project, you will participate in this Kaggle competition: (https://www.kaggle.com/c/learn-ai-bbc/overview) \n",
    "\n",
    "Github: https://github.com/GHeart01/BCC_News_Classification\n",
    "\n",
    "This Kaggle competition is about categorizing news articles. You will use matrix factorization to predict the category and submit your notebook for peer evaluation. "
   ]
  },
  {
   "cell_type": "markdown",
   "id": "7e53c0e4",
   "metadata": {},
   "source": [
    "The Jupyter notebook should show a brief EDA procedure, model building and training, results, and comparison with supervised learning. If your work doesn't fit into one notebook (or you think it will be less readable by having one large notebook), make several notebooks or scripts in the GitHub repository (as deliverable 2) and submit a report-style notebook or pdf instead."
   ]
  },
  {
   "cell_type": "markdown",
   "id": "2de7e9e6",
   "metadata": {},
   "source": [
    "Contents\n",
    "Description\n",
    "Exploratory Data Analysis\n",
    "Model Building and Training\n",
    "Comparision with Supervised Machine Learning\n",
    "Citation\n",
    "#### Table of Contents\n",
    "\n",
    "- [Description](#Description)\n",
    "- [EDA](#Exploratory-Data-Analysis-(EDA)-Procedure)\n",
    "- [Model Building and Training](#Model-Building-and-Training)\n",
    "- [Comparision with Supervised Machine Learning](#Comparision-with-Supervised-Machine-Learning)\n",
    "- [Citation](#Citation)"
   ]
  },
  {
   "cell_type": "markdown",
   "id": "efec6eb1",
   "metadata": {},
   "source": [
    "#### Description"
   ]
  },
  {
   "cell_type": "markdown",
   "id": "a6c690eb",
   "metadata": {},
   "source": [
    "Text documents are one of the richest sources of data for businesses.\n",
    "\n",
    "We’ll use a public dataset from the BBC comprised of 2225 articles, each labeled under one of 5 categories: business, entertainment, politics, sport or tech.\n",
    "\n",
    "The dataset is broken into 1490 records for training and 735 for testing. The goal will be to build a system that can accurately classify previously unseen news articles into the right category.\n",
    "\n",
    "The competition is evaluated using Accuracy as a metric.\n",
    "\n",
    "The evaluation metric for this competition is Accuracy. Sample Solution FIle shows the format required for submission. The file should contain a header and have the following two columns ArticleId (from Test File) Category (one of the five categories - sport, tech, business, entertainment or politics)"
   ]
  },
  {
   "cell_type": "markdown",
   "id": "7bab61a9",
   "metadata": {},
   "source": [
    "#### Exploratory Data Analysis (EDA) Procedure"
   ]
  },
  {
   "cell_type": "markdown",
   "id": "97ed28fc",
   "metadata": {},
   "source": []
  },
  {
   "cell_type": "code",
   "execution_count": null,
   "id": "5d50aa3b",
   "metadata": {},
   "outputs": [],
   "source": []
  },
  {
   "cell_type": "markdown",
   "id": "30289d1d",
   "metadata": {},
   "source": [
    "#### Model Building and Training"
   ]
  },
  {
   "cell_type": "markdown",
   "id": "d8367fde",
   "metadata": {},
   "source": [
    "#### Comparision with Supervised Machine Learning"
   ]
  },
  {
   "cell_type": "code",
   "execution_count": null,
   "id": "a1fabb24",
   "metadata": {},
   "outputs": [],
   "source": []
  },
  {
   "cell_type": "markdown",
   "id": "70951da9",
   "metadata": {},
   "source": [
    "#### Citation\n",
    "Bijoy Bose. BBC News Classification. https://kaggle.com/competitions/learn-ai-bbc, 2019. Kaggle.\n",
    "\n",
    "\n"
   ]
  }
 ],
 "metadata": {
  "language_info": {
   "name": "python"
  }
 },
 "nbformat": 4,
 "nbformat_minor": 5
}
