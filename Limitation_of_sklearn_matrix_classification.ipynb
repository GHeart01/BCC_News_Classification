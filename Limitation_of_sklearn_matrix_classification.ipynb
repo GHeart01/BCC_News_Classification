{
 "cells": [
  {
   "cell_type": "markdown",
   "id": "bfe2c44f",
   "metadata": {},
   "source": [
    "# Limitation of sklearn’s non-negative matrix factorization library"
   ]
  },
  {
   "cell_type": "markdown",
   "id": "b741cffb",
   "metadata": {},
   "source": [
    "Upload a Jupyter notebook with a mix of code/markdown to answer the following questions. Please mark the sections of your notebook as 1 and 2 so that graders can follow along.\n",
    "\n",
    "1. Load the movie ratings data (as in the HW3-recommender-system) and use matrix factorization technique(s) and predict the missing ratings from the test data. Measure the RMSE. You should use sklearn library. [10 pts]\n",
    "\n",
    "Make sure that your notebook includes the following:\n",
    "\n",
    "use's sklearn's non-negative matrix factorization\n",
    "\n",
    "notebook shows the RMSE with an analysis of what that RMSE means\n",
    "\n",
    "2. Discuss the results and why they did not work well compared to simple baseline or similarity-based methods we’ve done in Module 3. Can you suggest a way(s) to fix it? [10 pts]\n",
    "\n",
    "\n",
    "Part 2:\n",
    "\n",
    "Limitation(s) of sklearn’s non-negative matrix factorization library. [20 pts]\n",
    "\n",
    "1. Load the movie ratings data (as in the HW3-recommender-system) and use matrix factorization technique(s) and predict the missing ratings from the test data. Measure the RMSE. You should use sklearn library. [10 pts]\n",
    "\n",
    "\n",
    "2. Discuss the results and why sklearn's non-negative matrix facorization library did not work well compared to simple baseline or similarity-based methods we’ve done in Module 3. Can you suggest a way(s) to fix it? [10 pts]"
   ]
  }
 ],
 "metadata": {
  "language_info": {
   "name": "python"
  }
 },
 "nbformat": 4,
 "nbformat_minor": 5
}
